{
 "cells": [
  {
   "cell_type": "code",
   "execution_count": null,
   "metadata": {
    "collapsed": true
   },
   "outputs": [],
   "source": [
    "#################################################\n",
    "##########  (c) by Alfred Galichon     ##########\n",
    "#################################################"
   ]
  },
  {
   "cell_type": "markdown",
   "metadata": {},
   "source": [
    "## setting up the data"
   ]
  },
  {
   "cell_type": "code",
   "execution_count": 1,
   "metadata": {},
   "outputs": [
    {
     "name": "stderr",
     "output_type": "stream",
     "text": [
      "Updating HTML index of packages in '.Library'\n",
      "Making 'packages.html' ... done\n"
     ]
    }
   ],
   "source": [
    "install.packages(\"slam\")"
   ]
  },
  {
   "cell_type": "code",
   "execution_count": 1,
   "metadata": {
    "collapsed": true
   },
   "outputs": [],
   "source": [
    "install.packages('/Library/gurobi752/mac64/R/gurobi_7.5-2.tgz', repos=NULL)"
   ]
  },
  {
   "cell_type": "code",
   "execution_count": 1,
   "metadata": {},
   "outputs": [
    {
     "name": "stderr",
     "output_type": "stream",
     "text": [
      "Loading required package: slam\n"
     ]
    }
   ],
   "source": [
    "library(gurobi)\n",
    "setwd('~/Dropbox/matheconcode/_applications/01-appli-lp/')\n",
    "thepath = getwd()\n",
    "filename=\"/StiglerData1939.txt\"\n",
    "thedata = as.matrix(read.csv(paste0(thepath,filename),sep=\"\\t\", header=T))\n",
    "nbCommodities=length(which(thedata[,1] != \"\" ))-1\n",
    "names = thedata[1:nbCommodities,1]\n",
    "themat = matrix( as.numeric(thedata[,3:13]), ncol = 11)\n",
    "themat[is.na(themat)] = 0"
   ]
  },
  {
   "cell_type": "markdown",
   "metadata": {},
   "source": [
    "## calling Gurobi"
   ]
  },
  {
   "cell_type": "code",
   "execution_count": null,
   "metadata": {
    "collapsed": true
   },
   "outputs": [],
   "source": [
    "N = t(themat[1:nbCommodities,3:11])\n",
    "d = themat[(nbCommodities+1),3:11]\n",
    "c = rep(1,nbCommodities)\n",
    "result   = gurobi ( list(A=N,obj=c,modelsense=\"min\",rhs=d,sense=\">\"), params=list(OutputFlag=0) ) \n",
    "q_yearly  = result$x * 365 # convert into yearly cost\n",
    "pi = result$pi\n",
    "cost_daily =  result$objval"
   ]
  },
  {
   "cell_type": "markdown",
   "metadata": {
    "collapsed": true
   },
   "source": [
    "## display optimal solution"
   ]
  },
  {
   "cell_type": "code",
   "execution_count": null,
   "metadata": {
    "collapsed": true
   },
   "outputs": [],
   "source": [
    "print(\"*** optimal solution ***\")\n",
    "toKeep = which(q_yearly !=0 )\n",
    "foods = q_yearly[toKeep]\n",
    "names(foods) = names[toKeep]\n",
    "print(foods)\n",
    "print(paste0(\"Total cost (optimal)= \", sum(q_yearly*c) ))"
   ]
  },
  {
   "cell_type": "markdown",
   "metadata": {},
   "source": [
    "## compare with Stigler's solution"
   ]
  },
  {
   "cell_type": "code",
   "execution_count": null,
   "metadata": {
    "collapsed": true
   },
   "outputs": [],
   "source": [
    "print(\"*** Stigler's solution ***\")\n",
    "toKeepStigler = c(1,15,46,52,69)\n",
    "foods_stigler = c(13.33, 3.84,4.11,1.85,16.80)\n",
    "names(foods_stigler) = names[toKeepStigler]\n",
    "print(foods_stigler)\n",
    "print(paste0(\"Total cost (Stigler)= \", sum(foods_stigler*c[toKeepStigler]) ))"
   ]
  },
  {
   "cell_type": "markdown",
   "metadata": {},
   "source": [
    "## alternatively, use glpk"
   ]
  },
  {
   "cell_type": "code",
   "execution_count": null,
   "metadata": {
    "collapsed": true
   },
   "outputs": [],
   "source": [
    "print(\"*** Optimal solution using Rglpk ***\")\n",
    "library(Rglpk)\n",
    "resGlpk = Rglpk_solve_LP(obj=c, mat=N, dir=rep(\">\",length(d)), rhs=d, bounds = NULL, \n",
    "                         max = FALSE, control = list())\n",
    "print(resGlpk$optimum*365)"
   ]
  }
 ],
 "metadata": {
  "kernelspec": {
   "display_name": "R [conda env:R]",
   "language": "R",
   "name": "conda-env-R-r"
  },
  "language_info": {
   "codemirror_mode": "r",
   "file_extension": ".r",
   "mimetype": "text/x-r-source",
   "name": "R",
   "pygments_lexer": "r",
   "version": "3.4.2"
  }
 },
 "nbformat": 4,
 "nbformat_minor": 2
}
