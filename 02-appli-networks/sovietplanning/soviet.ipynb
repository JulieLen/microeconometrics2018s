{
 "cells": [
  {
   "cell_type": "code",
   "execution_count": null,
   "metadata": {
    "collapsed": true
   },
   "outputs": [],
   "source": [
    "#################################################\n",
    "##########       Alfred Galichon       ##########\n",
    "#################################################\n",
    "\n",
    "library('gurobi')\n",
    "library('Matrix')\n",
    "\n",
    "\n",
    "\n",
    "thePath = getwd()\n",
    "#data = read.csv(paste0(thePath,\"/distances.csv\"),sep=\",\", header=TRUE)\n",
    "data = as.matrix(read.csv(paste0(thePath,\"/distances.csv\"),sep=\",\", header=TRUE)) # loads the data\n",
    "nsources = 68\n",
    "ndests = 10\n",
    "dists = matrix(as.numeric(data[1:68,2:11]),68,10)\n",
    "p = matrix(as.numeric(data[1:68,12]))\n",
    "q = matrix(as.numeric(data[69,2:11]))\n",
    "nonzeros = which(! is.na(dists))\n",
    "\n",
    "nbNodes = nsources+ndests\n",
    "nbArcs = length(nonzeros)\n",
    "\n",
    "rows = (nonzeros-1) %% nsources + 1\n",
    "cols = (nonzeros-1) %/% nsources + 1 \n",
    "costs = dists[nonzeros]\n",
    "arcs = cbind(rows,cols+nsources,costs)\n",
    "\n",
    "n = c(-p,q)\n",
    "nameNodes = c(data[2:(nsources+1)] ,dimnames(data)[[2]][2:11])"
   ]
  },
  {
   "cell_type": "markdown",
   "metadata": {},
   "source": [
    "## construct node-incidence matrix:"
   ]
  },
  {
   "cell_type": "code",
   "execution_count": null,
   "metadata": {
    "collapsed": true
   },
   "outputs": [],
   "source": [
    "Nabla =  sparseMatrix(i=1:nbArcs,j=arcs[,1],dims=c(nbArcs,nbNodes),x=-1) + sparseMatrix(i=1:nbArcs,j=arcs[,2],dims=c(nbArcs,nbNodes),x=1)"
   ]
  },
  {
   "cell_type": "markdown",
   "metadata": {},
   "source": [
    "## solve LP via Gurobi"
   ]
  },
  {
   "cell_type": "code",
   "execution_count": null,
   "metadata": {
    "collapsed": true
   },
   "outputs": [],
   "source": [
    "result = gurobi ( list(A=t(Nabla),obj=costs,modelsense='min',rhs=n,sense='=',start=matrix(0,nbArcs,1)), params=NULL)\n",
    "pi = result$x\n",
    "distance = result$objval\n",
    "\n",
    "print(distance)"
   ]
  }
 ],
 "metadata": {
  "kernelspec": {
   "display_name": "R [conda env:R]",
   "language": "R",
   "name": "conda-env-R-r"
  },
  "language_info": {
   "codemirror_mode": "r",
   "file_extension": ".r",
   "mimetype": "text/x-r-source",
   "name": "R",
   "pygments_lexer": "r",
   "version": "3.4.2"
  }
 },
 "nbformat": 4,
 "nbformat_minor": 2
}
